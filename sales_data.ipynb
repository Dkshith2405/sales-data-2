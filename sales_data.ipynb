{
 "cells": [
  {
   "cell_type": "code",
   "execution_count": 37,
   "id": "732064fa",
   "metadata": {},
   "outputs": [],
   "source": [
    "import os\n",
    "import sqlite3\n",
    "import pandas as pd\n",
    "import matplotlib.pyplot as plt"
   ]
  },
  {
   "cell_type": "code",
   "execution_count": 14,
   "id": "560341e1",
   "metadata": {},
   "outputs": [],
   "source": [
    "DB_PATH = \"D:\\\\Elevate Data Analyst\\\\TASK 7\\\\sales_data.db\"\n",
    "TABLE = \"sales\""
   ]
  },
  {
   "cell_type": "code",
   "execution_count": 15,
   "id": "3aa0d84d",
   "metadata": {},
   "outputs": [],
   "source": [
    "def create_db(conn):\n",
    "    conn.execute(f\"\"\"\n",
    "        CREATE TABLE IF NOT EXISTS {TABLE} (\n",
    "            order_id TEXT,\n",
    "            product TEXT,\n",
    "            quantity INTEGER,\n",
    "            price REAL,\n",
    "            order_date TEXT,   -- ISO string (YYYY-MM-DD HH:MM:SS)\n",
    "            country TEXT\n",
    "        );\n",
    "    \"\"\")\n",
    "    conn.commit()"
   ]
  },
  {
   "cell_type": "code",
   "execution_count": 16,
   "id": "b1182d4e",
   "metadata": {},
   "outputs": [],
   "source": [
    "def insert_sample_data(conn):\n",
    "    sample = [\n",
    "        (\"INV-001\", \"Paper Clips\", 10, 1.99, \"2023-01-15 10:05:00\", \"United Kingdom\"),\n",
    "        (\"INV-002\", \"Binder\", 5, 3.49, \"2023-01-20 14:20:00\", \"United Kingdom\"),\n",
    "        (\"INV-003\", \"Stapler\", 2, 7.99, \"2023-02-05 09:10:00\", \"France\"),\n",
    "        (\"INV-004\", \"Notebook\", 12, 2.49, \"2023-02-07 16:45:00\", \"Germany\"),\n",
    "        (\"INV-005\", \"Pencil\", 20, 0.99, \"2023-02-18 11:30:00\", \"Spain\"),\n",
    "        (\"INV-006\", \"Marker\", 6, 1.49, \"2023-03-01 13:00:00\", \"United Kingdom\"),\n",
    "    ]\n",
    "    conn.executemany(f\"INSERT INTO {TABLE} (order_id, product, quantity, price, order_date, country) VALUES (?,?,?,?,?,?)\", sample)\n",
    "    conn.commit()\n",
    "    print(f\"Inserted {len(sample)} sample rows into '{TABLE}'.\")"
   ]
  },
  {
   "cell_type": "code",
   "execution_count": 27,
   "id": "bdc638c9",
   "metadata": {},
   "outputs": [
    {
     "name": "stdout",
     "output_type": "stream",
     "text": [
      "Inserted 6 sample rows into 'sales'.\n",
      "Total rows now in 'sales': 30\n",
      "Done. Created 'sales_data.db'.\n"
     ]
    }
   ],
   "source": [
    "def main():\n",
    "    # Create DB\n",
    "    conn = sqlite3.connect(DB_PATH)\n",
    "    create_db(conn)\n",
    "\n",
    "    insert_sample_data(conn)\n",
    "\n",
    "    # Quick sanity check\n",
    "    cur = conn.cursor()\n",
    "    cur.execute(f\"SELECT COUNT(*) FROM {TABLE};\")\n",
    "    total = cur.fetchone()[0]\n",
    "    print(f\"Total rows now in '{TABLE}': {total:,}\")\n",
    "    print(\"Done. Created 'sales_data.db'.\")\n",
    "\n",
    "if __name__ == \"__main__\":\n",
    "    main()"
   ]
  },
  {
   "cell_type": "code",
   "execution_count": null,
   "id": "61c9f7ee",
   "metadata": {},
   "outputs": [],
   "source": [
    "cursor = conn.cursor()"
   ]
  },
  {
   "cell_type": "code",
   "execution_count": null,
   "id": "fcd20508",
   "metadata": {},
   "outputs": [
    {
     "name": "stdout",
     "output_type": "stream",
     "text": [
      "('INV-001', 'Paper Clips', 10, 1.99, '2023-01-15 10:05:00', 'United Kingdom')\n",
      "('INV-002', 'Binder', 5, 3.49, '2023-01-20 14:20:00', 'United Kingdom')\n",
      "('INV-003', 'Stapler', 2, 7.99, '2023-02-05 09:10:00', 'France')\n",
      "('INV-004', 'Notebook', 12, 2.49, '2023-02-07 16:45:00', 'Germany')\n",
      "('INV-005', 'Pencil', 20, 0.99, '2023-02-18 11:30:00', 'Spain')\n",
      "('INV-006', 'Marker', 6, 1.49, '2023-03-01 13:00:00', 'United Kingdom')\n"
     ]
    }
   ],
   "source": [
    "cursor.execute(\"select * from sales\")\n",
    "rows = cursor.fetchall()  \n",
    "\n",
    "for row in rows:\n",
    "    print(row)\n"
   ]
  },
  {
   "cell_type": "code",
   "execution_count": null,
   "id": "ed7f6d1c",
   "metadata": {},
   "outputs": [
    {
     "name": "stdout",
     "output_type": "stream",
     "text": [
      "Total Revenue: 223.9\n"
     ]
    }
   ],
   "source": [
    "# 1) Total revenue\n",
    "cursor.execute(\"SELECT SUM(quantity * price) FROM sales;\")\n",
    "total_revenue = cursor.fetchone()[0]\n",
    "print(\"Total Revenue:\", total_revenue)\n",
    "\n",
    "    \n"
   ]
  },
  {
   "cell_type": "code",
   "execution_count": 33,
   "id": "0dccb232",
   "metadata": {},
   "outputs": [
    {
     "name": "stdout",
     "output_type": "stream",
     "text": [
      "Total Orders: 6\n"
     ]
    }
   ],
   "source": [
    "# 2) Revenue by product\n",
    "cursor.execute(\"SELECT COUNT(DISTINCT order_id) FROM sales;\")\n",
    "total_orders = cursor.fetchone()[0]\n",
    "print(\"Total Orders:\", total_orders)\n",
    "\n",
    "\n",
    "    "
   ]
  },
  {
   "cell_type": "code",
   "execution_count": 34,
   "id": "4af40791",
   "metadata": {},
   "outputs": [
    {
     "name": "stdout",
     "output_type": "stream",
     "text": [
      "('Notebook', 29.880000000000003)\n",
      "('Paper Clips', 19.9)\n",
      "('Pencil', 19.8)\n",
      "('Binder', 17.450000000000003)\n",
      "('Stapler', 15.98)\n"
     ]
    }
   ],
   "source": [
    "# 3) Monthly revenue (SQLite uses strftime)\n",
    "cursor.execute(\"\"\"\n",
    "SELECT product, SUM(quantity * price) as revenue\n",
    "FROM sales\n",
    "GROUP BY product\n",
    "ORDER BY revenue DESC\n",
    "LIMIT 5;\n",
    "\"\"\")\n",
    "\n",
    "for row in cursor.fetchall():\n",
    "    print(row)\n",
    "\n",
    "    "
   ]
  },
  {
   "cell_type": "code",
   "execution_count": 38,
   "id": "0d2098fc",
   "metadata": {},
   "outputs": [
    {
     "name": "stdout",
     "output_type": "stream",
     "text": [
      "\n",
      "Saved bar chart -> sales_chart.png\n"
     ]
    },
    {
     "data": {
      "image/png": "[encoded data removed]",
      "text/plain": [
       "<Figure size 800x500 with 1 Axes>"
      ]
     },
     "metadata": {},
     "output_type": "display_data"
    }
   ],
   "source": [
    "# Plot: revenue by product (top 5)\n",
    "by_product = pd.read_sql_query(\"\"\"\n",
    "    SELECT product, SUM(quantity * price) AS revenue\n",
    "    FROM sales\n",
    "    GROUP BY product\n",
    "    ORDER BY revenue DESC;\n",
    "\"\"\", conn)\n",
    "\n",
    "top5 = by_product.head(5)\n",
    "plt.figure(figsize=(8,5))\n",
    "plt.bar(top5[\"product\"], top5[\"revenue\"])\n",
    "plt.title(\"Top 5 Products by Revenue\")\n",
    "plt.xlabel(\"Product\")\n",
    "plt.ylabel(\"Revenue\")\n",
    "plt.xticks(rotation=45, ha=\"right\")\n",
    "plt.tight_layout()\n",
    "plt.savefig(\"sales_chart.png\")\n",
    "print(\"\\nSaved bar chart -> sales_chart.png\")\n"
   ]
  },
  {
   "cell_type": "code",
   "execution_count": null,
   "id": "98d222cd",
   "metadata": {},
   "outputs": [],
   "source": []
  },
  {
   "cell_type": "code",
   "execution_count": null,
   "id": "7202ef2e",
   "metadata": {},
   "outputs": [],
   "source": []
  },
  {
   "cell_type": "code",
   "execution_count": null,
   "id": "408cb30d",
   "metadata": {},
   "outputs": [],
   "source": []
  }
 ],
 "metadata": {
  "kernelspec": {
   "display_name": "Python (py38)",
   "language": "python",
   "name": "py38"
  },
  "language_info": {
   "codemirror_mode": {
    "name": "ipython",
    "version": 3
   },
   "file_extension": ".py",
   "mimetype": "text/x-python",
   "name": "python",
   "nbconvert_exporter": "python",
   "pygments_lexer": "ipython3",
   "version": "3.12.3"
  }
 },
 "nbformat": 4,
 "nbformat_minor": 5
}
